{
 "cells": [
  {
   "attachments": {},
   "cell_type": "markdown",
   "metadata": {},
   "source": [
    "Chapter 28\n",
    "More Aggregations\n",
    ".transform method and .filter method\n",
    "\n"
   ]
  },
  {
   "attachments": {},
   "cell_type": "markdown",
   "metadata": {},
   "source": [
    "28.1 Aggregations while keeping rows."
   ]
  },
  {
   "cell_type": "code",
   "execution_count": 1,
   "metadata": {},
   "outputs": [],
   "source": [
    "#clears the output variables\n",
    "\n",
    "%reset -f"
   ]
  },
  {
   "cell_type": "code",
   "execution_count": 10,
   "metadata": {},
   "outputs": [],
   "source": [
    "import pandas as pd\n",
    "\n",
    "import collections\n",
    "\n",
    "import catboost as cb\n",
    "\n",
    "import numpy as np"
   ]
  },
  {
   "cell_type": "code",
   "execution_count": 3,
   "metadata": {},
   "outputs": [],
   "source": [
    "def get_uniq_cols(jb):\n",
    "    counter = collections.defaultdict(list)\n",
    "    for col in sorted(jb.columns):\n",
    "        period_count = col.count('.')\n",
    "        if period_count >= 2:\n",
    "            part_end = 2\n",
    "        else:\n",
    "            part_end = 1\n",
    "        parts = col.split('.')[:part_end]\n",
    "        counter['.'.join(parts)].append(col)\n",
    "    uniq_cols = []\n",
    "    for cols in counter.values():\n",
    "        if len(cols) == 1:\n",
    "            uniq_cols.extend(cols)\n",
    "    return uniq_cols"
   ]
  },
  {
   "cell_type": "code",
   "execution_count": 4,
   "metadata": {},
   "outputs": [],
   "source": [
    "#books code\n",
    "def prep_for_ml(df):\n",
    "    # remove pandas types\n",
    "    return (df\n",
    "     .assign(**{col:df[col].astype(float) \n",
    "               for col in df.select_dtypes('number')},\n",
    "             **{col:df[col].astype(str).fillna('') \n",
    "               for col in df.select_dtypes(['object', 'category'])})\n",
    "    )"
   ]
  },
  {
   "cell_type": "code",
   "execution_count": 5,
   "metadata": {},
   "outputs": [],
   "source": [
    "def predict_col(df, col):\n",
    "    df = prep_for_ml(df)\n",
    "    missing = df.query(f'~{col}.isna()')\n",
    "    cat_idx = []\n",
    "    for i,typ in enumerate(df.drop(columns=[col]).dtypes):\n",
    "        if str(typ) == 'object':\n",
    "            cat_idx.append(i)\n",
    "    X = (missing\n",
    "         .drop(columns=[col])\n",
    "         .values\n",
    "        )\n",
    "    y = missing[col]\n",
    "    model = cb.CatBoostRegressor(iterations=20, cat_features=cat_idx)\n",
    "    model.fit(X, y, cat_features=cat_idx)\n",
    "    pred = model.predict(df.drop(columns=[col]))\n",
    "    return df[col].where(~df[col].isna(), pred)\n"
   ]
  },
  {
   "cell_type": "code",
   "execution_count": 11,
   "metadata": {},
   "outputs": [
    {
     "name": "stderr",
     "output_type": "stream",
     "text": [
      "C:\\Users\\wgrom\\AppData\\Local\\Temp\\ipykernel_7960\\191578454.py:47: DtypeWarning: Columns (152) have mixed types. Specify dtype option on import or set low_memory=False.\n",
      "  jb = pd.read_csv(url)\n"
     ]
    },
    {
     "name": "stdout",
     "output_type": "stream",
     "text": [
      "Learning rate set to 0.5\n",
      "0:\tlearn: 2.9695218\ttotal: 186ms\tremaining: 3.54s\n",
      "1:\tlearn: 2.8766539\ttotal: 231ms\tremaining: 2.08s\n",
      "2:\tlearn: 2.8387189\ttotal: 277ms\tremaining: 1.57s\n",
      "3:\tlearn: 2.8028751\ttotal: 327ms\tremaining: 1.31s\n",
      "4:\tlearn: 2.7899957\ttotal: 376ms\tremaining: 1.13s\n",
      "5:\tlearn: 2.7749439\ttotal: 420ms\tremaining: 979ms\n",
      "6:\tlearn: 2.7719128\ttotal: 464ms\tremaining: 862ms\n",
      "7:\tlearn: 2.7649792\ttotal: 512ms\tremaining: 767ms\n",
      "8:\tlearn: 2.7649588\ttotal: 548ms\tremaining: 670ms\n",
      "9:\tlearn: 2.7630617\ttotal: 590ms\tremaining: 590ms\n",
      "10:\tlearn: 2.7625779\ttotal: 629ms\tremaining: 515ms\n",
      "11:\tlearn: 2.7515902\ttotal: 667ms\tremaining: 445ms\n",
      "12:\tlearn: 2.7513459\ttotal: 704ms\tremaining: 379ms\n",
      "13:\tlearn: 2.7445634\ttotal: 741ms\tremaining: 317ms\n",
      "14:\tlearn: 2.7443257\ttotal: 775ms\tremaining: 258ms\n",
      "15:\tlearn: 2.7423142\ttotal: 809ms\tremaining: 202ms\n",
      "16:\tlearn: 2.7419143\ttotal: 845ms\tremaining: 149ms\n",
      "17:\tlearn: 2.7399387\ttotal: 885ms\tremaining: 98.3ms\n",
      "18:\tlearn: 2.7384296\ttotal: 921ms\tremaining: 48.5ms\n",
      "19:\tlearn: 2.7383591\ttotal: 961ms\tremaining: 0us\n"
     ]
    }
   ],
   "source": [
    "# books code\n",
    "def tweak_jb(jb):\n",
    "     uniq_cols = get_uniq_cols(jb)\n",
    "     return (jb\n",
    "         [uniq_cols]\n",
    "         .rename(columns=lambda c: c.replace('.', '_'))\n",
    "         .assign(age=lambda df_:df_.age.str.slice(0,2).astype(float)\n",
    "                    .astype('Int64'),\n",
    "                are_you_datascientist=lambda df_:df_\n",
    "                    .are_you_datascientist\n",
    "                    .replace({'Yes': True, 'No': False, np.nan: False}),\n",
    "                company_size=lambda df_:df_.company_size.replace({\n",
    "                    'Just me': 1, 'Not sure': np.nan,\n",
    "                    'More than 5,000': 5000, '2–10': 2, '11–50':11,\n",
    "                    '51–500': 51, '501–1,000':501,\n",
    "                    '1,001–5,000':1001}).astype('Int64'),\n",
    "                country_live=lambda df_:df_.country_live\n",
    "                    .astype('category'),\n",
    "                employment_status=lambda df_:df_.employment_status\n",
    "                     .fillna('Other').astype('category'),\n",
    "                is_python_main=lambda df_:df_.is_python_main\n",
    "                     .astype('category'),\n",
    "                team_size=lambda df_:df_.team_size\n",
    "                    .str.split(r'-', n=1, expand=True)\n",
    "                    .iloc[:,0].replace('More than 40 people', 41)\n",
    "                    .where(df_.company_size!=1, 1).astype(float),\n",
    "                years_of_coding=lambda df_:df_.years_of_coding\n",
    "                    .replace('Less than 1 year', .5)\n",
    "                    .str.extract(r'(\\d+)').astype(float),\n",
    "                python_years=lambda df_:df_.python_years\n",
    "                    .replace('Less than 1 year', .5)\n",
    "                    .str.extract(r'(\\d+)').astype(float),\n",
    "                python3_ver=lambda df_:df_.python3_version_most\n",
    "                     .str.replace('_', '.').str.extract(r'(\\d\\.\\d)')\n",
    "                     .astype(float),\n",
    "                use_python_most=lambda df_:df_.use_python_most\n",
    "                     .fillna('Unknown')\n",
    "               )\n",
    "        .assign(team_size=lambda df_:predict_col(df_, 'team_size')\n",
    "             .astype(int))\n",
    "        .drop(columns=['python2_version_most'])\n",
    "        .dropna()\n",
    "        #.astype({'age':'int64','company_size':'int64'})   # would throw a 'Int64' error if not converted to 'int64'\n",
    "    )    \n",
    "url = 'https://github.com/mattharrison/datasets/raw/master/data/'\\\n",
    "   '2020-jetbrains-python-survey.csv'\n",
    "jb = pd.read_csv(url)\n",
    "jb2 = tweak_jb(jb)\n"
   ]
  }
 ],
 "metadata": {
  "kernelspec": {
   "display_name": "base",
   "language": "python",
   "name": "python3"
  },
  "language_info": {
   "codemirror_mode": {
    "name": "ipython",
    "version": 3
   },
   "file_extension": ".py",
   "mimetype": "text/x-python",
   "name": "python",
   "nbconvert_exporter": "python",
   "pygments_lexer": "ipython3",
   "version": "3.9.15"
  },
  "orig_nbformat": 4
 },
 "nbformat": 4,
 "nbformat_minor": 2
}
