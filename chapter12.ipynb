{
 "cells": [
  {
   "attachments": {},
   "cell_type": "markdown",
   "metadata": {},
   "source": [
    "Date and Time Manipulation"
   ]
  },
  {
   "cell_type": "code",
   "execution_count": 1,
   "metadata": {
    "vscode": {
     "languageId": "python"
    }
   },
   "outputs": [],
   "source": [
    "import pandas as pd"
   ]
  },
  {
   "cell_type": "code",
   "execution_count": 12,
   "metadata": {
    "vscode": {
     "languageId": "python"
    }
   },
   "outputs": [],
   "source": [
    "col = pd.Series(['2015-03-08 08:00:00+00:00',\n",
    "'2015-03-08 08:30:00+00:00',\n",
    "'2015-03-08 08:00:00+00:00',\n",
    "'2015-03-08 09:00:00+00:00',\n",
    "'2015-11-01 08:00:00+00:00',\n",
    "'2015-11-01 08:00:00+00:00',\n",
    "'2015-11-01 08:04:00+00:00',\n",
    "'2015-11-08 08:00:00+00:00',\n",
    "'2015-11-01 08:00:00+00:00',])"
   ]
  },
  {
   "cell_type": "code",
   "execution_count": 13,
   "metadata": {
    "vscode": {
     "languageId": "python"
    }
   },
   "outputs": [],
   "source": [
    "utc_s = pd.to_datetime(col, utc=True)"
   ]
  },
  {
   "cell_type": "code",
   "execution_count": 14,
   "metadata": {
    "vscode": {
     "languageId": "python"
    }
   },
   "outputs": [
    {
     "data": {
      "text/plain": [
       "0   2015-03-08 08:00:00+00:00\n",
       "1   2015-03-08 08:30:00+00:00\n",
       "2   2015-03-08 08:00:00+00:00\n",
       "3   2015-03-08 09:00:00+00:00\n",
       "4   2015-11-01 08:00:00+00:00\n",
       "5   2015-11-01 08:00:00+00:00\n",
       "6   2015-11-01 08:04:00+00:00\n",
       "7   2015-11-08 08:00:00+00:00\n",
       "8   2015-11-01 08:00:00+00:00\n",
       "dtype: datetime64[ns, UTC]"
      ]
     },
     "execution_count": 14,
     "metadata": {},
     "output_type": "execute_result"
    }
   ],
   "source": [
    "utc_s"
   ]
  },
  {
   "cell_type": "code",
   "execution_count": 15,
   "metadata": {
    "vscode": {
     "languageId": "python"
    }
   },
   "outputs": [
    {
     "data": {
      "text/plain": [
       "0   2015-03-08 01:00:00-07:00\n",
       "1   2015-03-08 01:30:00-07:00\n",
       "2   2015-03-08 01:00:00-07:00\n",
       "3   2015-03-08 03:00:00-06:00\n",
       "4   2015-11-01 01:00:00-07:00\n",
       "5   2015-11-01 01:00:00-07:00\n",
       "6   2015-11-01 01:04:00-07:00\n",
       "7   2015-11-08 01:00:00-07:00\n",
       "8   2015-11-01 01:00:00-07:00\n",
       "dtype: datetime64[ns, America/Denver]"
      ]
     },
     "execution_count": 15,
     "metadata": {},
     "output_type": "execute_result"
    }
   ],
   "source": [
    "# dt attribute\n",
    "\n",
    "(utc_s\n",
    " .dt\n",
    " .tz_convert('America/Denver'))"
   ]
  },
  {
   "cell_type": "code",
   "execution_count": 18,
   "metadata": {
    "vscode": {
     "languageId": "python"
    }
   },
   "outputs": [],
   "source": [
    "time = pd.Series(['2015-03-08 08:00:00+00:00',\n",
    "'2015-03-08 08:30:00+00:00',\n",
    "'2015-03-08 08:00:00+00:00',\n",
    "'2015-03-08 09:00:00+00:00',\n",
    "'2015-11-01 08:00:00+00:00',\n",
    "'2015-11-01 08:00:00+00:00',\n",
    "'2015-11-01 08:04:00+00:00',\n",
    "'2015-11-08 08:00:00+00:00',\n",
    "'2015-11-01 08:00:00+00:00',])\n",
    "\n",
    "\n",
    "offset = pd.Series([-7,-7,-7,-6,-5,\n",
    "                    -6,-7,-6, -7 ])"
   ]
  },
  {
   "cell_type": "code",
   "execution_count": 29,
   "metadata": {
    "vscode": {
     "languageId": "python"
    }
   },
   "outputs": [],
   "source": [
    "time = pd.Series(['2015-03-08 08:00:00+00:00',\n",
    "'2015-03-08 08:30:00+00:00',\n",
    "'2015-03-08 08:00:00+00:00',\n",
    "'2015-03-08 09:00:00+00:00',\n",
    "'2015-11-01 08:00:00+00:00',\n",
    "'2015-11-01 08:00:00+00:00',\n",
    "'2015-11-01 08:04:00+00:00',\n",
    "'2015-11-08 08:00:00+00:00',\n",
    "'2015-11-01 08:00:00+00:00'])\n",
    "\n",
    "\n",
    "offset = pd.Series([-7,-7,-7,-6,-7,\n",
    "                    -6,-7,-6, -7 ])\n",
    "\n",
    "offset = offset.replace({-7:'-07:00', -6:'-06:00'})\n",
    "\n"
   ]
  },
  {
   "cell_type": "code",
   "execution_count": 30,
   "metadata": {
    "vscode": {
     "languageId": "python"
    }
   },
   "outputs": [
    {
     "data": {
      "text/plain": [
       "0    -07:00\n",
       "1    -07:00\n",
       "2    -07:00\n",
       "3    -06:00\n",
       "4    -07:00\n",
       "5    -06:00\n",
       "6    -07:00\n",
       "7    -06:00\n",
       "8    -07:00\n",
       "dtype: object"
      ]
     },
     "execution_count": 30,
     "metadata": {},
     "output_type": "execute_result"
    }
   ],
   "source": [
    "offset"
   ]
  },
  {
   "cell_type": "code",
   "execution_count": 36,
   "metadata": {
    "vscode": {
     "languageId": "python"
    }
   },
   "outputs": [],
   "source": [
    "local = (pd.to_datetime(time)\n",
    " .groupby(offset)\n",
    " .transform(lambda s: s.dt.tz_localize(s.name)\n",
    "                       .dt.tz_convert('America/Denver'))\n",
    ")"
   ]
  },
  {
   "cell_type": "code",
   "execution_count": 43,
   "metadata": {
    "vscode": {
     "languageId": "python"
    }
   },
   "outputs": [
    {
     "data": {
      "text/plain": [
       "0   2015-03-08 01:00:00-07:00\n",
       "1   2015-03-08 01:30:00-07:00\n",
       "2   2015-03-08 01:00:00-07:00\n",
       "3   2015-03-08 03:00:00-06:00\n",
       "4   2015-11-01 01:00:00-07:00\n",
       "5   2015-11-01 01:00:00-07:00\n",
       "6   2015-11-01 01:04:00-07:00\n",
       "7   2015-11-08 01:00:00-07:00\n",
       "8   2015-11-01 01:00:00-07:00\n",
       "dtype: datetime64[ns, America/Denver]"
      ]
     },
     "execution_count": 43,
     "metadata": {},
     "output_type": "execute_result"
    }
   ],
   "source": [
    "local"
   ]
  },
  {
   "cell_type": "code",
   "execution_count": 44,
   "metadata": {
    "vscode": {
     "languageId": "python"
    }
   },
   "outputs": [
    {
     "data": {
      "text/plain": [
       "0   2015-03-08 08:00:00+00:00\n",
       "1   2015-03-08 08:30:00+00:00\n",
       "2   2015-03-08 08:00:00+00:00\n",
       "3   2015-03-08 09:00:00+00:00\n",
       "4   2015-11-01 08:00:00+00:00\n",
       "5   2015-11-01 08:00:00+00:00\n",
       "6   2015-11-01 08:04:00+00:00\n",
       "7   2015-11-08 08:00:00+00:00\n",
       "8   2015-11-01 08:00:00+00:00\n",
       "dtype: datetime64[ns, UTC]"
      ]
     },
     "execution_count": 44,
     "metadata": {},
     "output_type": "execute_result"
    }
   ],
   "source": [
    "local.dt.tz_convert('UTC')"
   ]
  },
  {
   "cell_type": "code",
   "execution_count": null,
   "metadata": {
    "vscode": {
     "languageId": "python"
    }
   },
   "outputs": [],
   "source": [
    "#load/convert to Epochs time\n"
   ]
  },
  {
   "cell_type": "code",
   "execution_count": 46,
   "metadata": {
    "vscode": {
     "languageId": "python"
    }
   },
   "outputs": [],
   "source": [
    "# Manipulating Dates\n",
    "\n",
    "url = 'https://raw.githubusercontent.com/mattharrison/datasets/master/data/alta-noaa-1980-2019.csv'\n",
    "\n",
    "alta_df =  pd.read_csv(url)\n",
    "\n",
    "\n"
   ]
  },
  {
   "cell_type": "code",
   "execution_count": 47,
   "metadata": {
    "vscode": {
     "languageId": "python"
    }
   },
   "outputs": [],
   "source": [
    "dates = pd.to_datetime(alta_df.DATE)"
   ]
  },
  {
   "cell_type": "code",
   "execution_count": 48,
   "metadata": {
    "vscode": {
     "languageId": "python"
    }
   },
   "outputs": [
    {
     "data": {
      "text/plain": [
       "0       1980-01-01\n",
       "1       1980-01-02\n",
       "2       1980-01-03\n",
       "3       1980-01-04\n",
       "4       1980-01-05\n",
       "           ...    \n",
       "14155   2019-09-03\n",
       "14156   2019-09-04\n",
       "14157   2019-09-05\n",
       "14158   2019-09-06\n",
       "14159   2019-09-07\n",
       "Name: DATE, Length: 14160, dtype: datetime64[ns]"
      ]
     },
     "execution_count": 48,
     "metadata": {},
     "output_type": "execute_result"
    }
   ],
   "source": [
    "dates"
   ]
  }
 ],
 "metadata": {
  "kernelspec": {
   "display_name": "Python 3 (ipykernel)",
   "language": "python",
   "name": "python3"
  },
  "orig_nbformat": 4,
  "vscode": {
   "interpreter": {
    "hash": "9650cb4e16cdd4a8e8e2d128bf38d875813998db22a3c986335f89e0cb4d7bb2"
   }
  }
 },
 "nbformat": 4,
 "nbformat_minor": 2
}
