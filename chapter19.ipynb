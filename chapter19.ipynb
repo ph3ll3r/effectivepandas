{
 "cells": [
  {
   "attachments": {},
   "cell_type": "markdown",
   "metadata": {},
   "source": [
    "Chapter 19\n",
    "Looping and Aggregation"
   ]
  },
  {
   "cell_type": "code",
   "execution_count": null,
   "metadata": {},
   "outputs": [],
   "source": [
    "# deletes variables\n",
    "%reset -f"
   ]
  },
  {
   "attachments": {},
   "cell_type": "markdown",
   "metadata": {},
   "source": [
    "19.1 For Loops\n",
    "\n"
   ]
  },
  {
   "cell_type": "code",
   "execution_count": null,
   "metadata": {},
   "outputs": [],
   "source": [
    "import pandas as pd"
   ]
  },
  {
   "cell_type": "code",
   "execution_count": null,
   "metadata": {},
   "outputs": [],
   "source": [
    "def tweak_siena_pres(df):\n",
    "    def int64_to_uint8(df_):\n",
    "        cols = df_.select_dtypes('int64')\n",
    "        return (df_\n",
    "                .astype({col:'uint8' for col in cols}))\n",
    "\n",
    "\n",
    "    return (df\n",
    "     .rename(columns={'Seq.':'Seq'})    # 1\n",
    "     .rename(columns={k:v.replace(' ', '_') for k,v in\n",
    "        {'Bg': 'Background',\n",
    "         'PL': 'Party leadership', 'CAb': 'Communication ability',\n",
    "         'RC': 'Relations with Congress', 'CAp': 'Court appointments',\n",
    "         'HE': 'Handling of economy', 'L': 'Luck',\n",
    "         'AC': 'Ability to compromise', 'WR': 'Willing to take risks',\n",
    "         'EAp': 'Executive appointments', 'OA': 'Overall ability',\n",
    "         'Im': 'Imagination', 'DA': 'Domestic accomplishments',\n",
    "         'Int': 'Integrity', 'EAb': 'Executive ability',\n",
    "         'FPA': 'Foreign policy accomplishments',\n",
    "         'LA': 'Leadership ability',\n",
    "         'IQ': 'Intelligence', 'AM': 'Avoid crucial mistakes',\n",
    "         'EV': \"Experts' view\", 'O': 'Overall'}.items()})\n",
    "     .astype({'Party':'category'})  # 2\n",
    "     .pipe(int64_to_uint8)  # 3\n",
    "     .assign(Average_rank=lambda df_:(df_.select_dtypes('uint8') # 4\n",
    "                 .sum(axis=1).rank(method='dense').astype('uint8')),\n",
    "             Quartile=lambda df_:pd.qcut(df_.Average_rank, 4,\n",
    "                 labels='1st 2nd 3rd 4th'.split())\n",
    "            )\n",
    "    )"
   ]
  },
  {
   "cell_type": "code",
   "execution_count": null,
   "metadata": {},
   "outputs": [],
   "source": [
    "\n",
    "\n",
    "pd.set_option('display.max_rows', 10)             \n",
    "url = 'https://github.com/mattharrison/datasets/raw/master/data/'\\\n",
    "    'siena2018-pres.csv'\n",
    "df = pd.read_csv(url, index_col=0)\n",
    "\n",
    "pres = tweak_siena_pres(df)\n"
   ]
  },
  {
   "cell_type": "code",
   "execution_count": null,
   "metadata": {},
   "outputs": [],
   "source": [
    "pres"
   ]
  },
  {
   "cell_type": "code",
   "execution_count": null,
   "metadata": {},
   "outputs": [],
   "source": [
    "pres.info()"
   ]
  },
  {
   "cell_type": "code",
   "execution_count": null,
   "metadata": {},
   "outputs": [],
   "source": [
    "# iteration over columns (col_name, series) tuple\n",
    "for col_name, col in pres.iteritems():\n",
    "    print(col_name, type(col))\n",
    "    #break\n",
    "    "
   ]
  },
  {
   "cell_type": "code",
   "execution_count": null,
   "metadata": {},
   "outputs": [],
   "source": [
    "for idx, row in pres.iterrows():\n",
    "    print(idx, type(row))\n",
    "    break"
   ]
  },
  {
   "cell_type": "code",
   "execution_count": null,
   "metadata": {},
   "outputs": [],
   "source": [
    "# iteration over rows as namedtuple (index as first item)\n",
    "\n",
    "for tup in pres.itertuples():\n",
    "    print(tup[0], len(tup), tup.Party)\n",
    "    break\n"
   ]
  },
  {
   "attachments": {},
   "cell_type": "markdown",
   "metadata": {},
   "source": [
    "19.2 Aggregations"
   ]
  },
  {
   "cell_type": "code",
   "execution_count": null,
   "metadata": {},
   "outputs": [],
   "source": [
    "scores = (pres\n",
    "          .loc[:, 'Background':'Average_rank'])\n",
    "\n",
    "scores.sum(axis='columns')/len(scores.columns)\n",
    "\n",
    "\n",
    "\n"
   ]
  },
  {
   "cell_type": "code",
   "execution_count": null,
   "metadata": {},
   "outputs": [],
   "source": [
    "scores.mean(axis=1)"
   ]
  },
  {
   "cell_type": "code",
   "execution_count": null,
   "metadata": {},
   "outputs": [],
   "source": [
    "# Why ?\n",
    "\n",
    "pres.agg(['count', 'size', 'sum', lambda col:col.loc[1]])"
   ]
  },
  {
   "cell_type": "code",
   "execution_count": null,
   "metadata": {},
   "outputs": [],
   "source": [
    "pres.agg({'Luck':['count', 'size'], 'Overall':['count', 'max']})"
   ]
  },
  {
   "cell_type": "code",
   "execution_count": null,
   "metadata": {},
   "outputs": [],
   "source": [
    "pres.agg(Intelligence_count=('Intelligence','count'), Intelligence_size=('Intelligence', 'size') )\n"
   ]
  },
  {
   "cell_type": "code",
   "execution_count": null,
   "metadata": {},
   "outputs": [],
   "source": [
    "pres.describe()"
   ]
  },
  {
   "cell_type": "code",
   "execution_count": null,
   "metadata": {},
   "outputs": [],
   "source": [
    "pres.describe(include='all')"
   ]
  },
  {
   "cell_type": "code",
   "execution_count": null,
   "metadata": {},
   "outputs": [],
   "source": [
    "(pres\n",
    " .select_dtypes('number')\n",
    " .pipe(lambda df_: df_.max(axis='columns')\n",
    "       -df_.min(axis='columns'))\n",
    ")"
   ]
  },
  {
   "cell_type": "code",
   "execution_count": null,
   "metadata": {},
   "outputs": [],
   "source": [
    "(pres\n",
    " .select_dtypes('number')\n",
    " .apply(lambda row: row.max()-row.min(), axis='columns')\n",
    " )"
   ]
  }
 ],
 "metadata": {
  "kernelspec": {
   "display_name": "Python 3",
   "language": "python",
   "name": "python3"
  },
  "language_info": {
   "codemirror_mode": {
    "name": "ipython",
    "version": 3
   },
   "file_extension": ".py",
   "mimetype": "text/x-python",
   "name": "python",
   "nbconvert_exporter": "python",
   "pygments_lexer": "ipython3",
   "version": "3.8.4"
  },
  "orig_nbformat": 4,
  "vscode": {
   "interpreter": {
    "hash": "9650cb4e16cdd4a8e8e2d128bf38d875813998db22a3c986335f89e0cb4d7bb2"
   }
  }
 },
 "nbformat": 4,
 "nbformat_minor": 2
}
