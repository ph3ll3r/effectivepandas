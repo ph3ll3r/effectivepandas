{
 "cells": [
  {
   "attachments": {},
   "cell_type": "markdown",
   "metadata": {},
   "source": [
    "Chapter 33\n",
    "Exporting Data"
   ]
  },
  {
   "cell_type": "code",
   "execution_count": 1,
   "metadata": {},
   "outputs": [],
   "source": [
    "%reset -f"
   ]
  },
  {
   "cell_type": "code",
   "execution_count": 2,
   "metadata": {},
   "outputs": [],
   "source": [
    "import pandas as pd \n"
   ]
  },
  {
   "cell_type": "code",
   "execution_count": 18,
   "metadata": {},
   "outputs": [
    {
     "name": "stderr",
     "output_type": "stream",
     "text": [
      "C:\\Users\\wgrom\\AppData\\Local\\Temp\\ipykernel_14376\\1734486613.py:3: DtypeWarning: Columns (7) have mixed types. Specify dtype option on import or set low_memory=False.\n",
      "  df = pd.read_csv(url, skiprows = lambda num:num <34 or num ==35, sep='\\t')\n"
     ]
    }
   ],
   "source": [
    "url = 'https://github.com/mattharrison/datasets/raw/master/data/dirtydevil.txt'\n",
    "\n",
    "df = pd.read_csv(url, skiprows = lambda num:num <34 or num ==35, sep='\\t')\n"
   ]
  },
  {
   "cell_type": "code",
   "execution_count": 4,
   "metadata": {},
   "outputs": [],
   "source": [
    "def to_america_denver_time(df_, time_col, tz_col):\n",
    "    return(df_\n",
    "           .assign(**{tz_col: df_[tz_col].replace('MDT','MST7MDT')})\n",
    "           .groupby(tz_col)\n",
    "           [time_col]\n",
    "           .transform(lambda s:pd.to_datetime(s)\n",
    "                      .dt.tz_localize(s.name, ambiguous=True)\n",
    "                      .dt.tz_convert('America/Denver'))\n",
    "           )\n",
    "    \n",
    "\n",
    "def tweak_river3(df_):\n",
    "    return(df_\n",
    "           .assign(datetime=to_america_denver_time(df_, 'datetime',\n",
    "                    'tz_cd'))\n",
    "           .rename(columns={'144166_00060':'cfs',\n",
    "                            '144167_00065': 'gage_height'})\n",
    "           .set_index('datetime')\n",
    "          )\n",
    "    \n",
    "    \n",
    "dd = tweak_river3(df)"
   ]
  },
  {
   "cell_type": "code",
   "execution_count": 21,
   "metadata": {},
   "outputs": [
    {
     "data": {
      "text/plain": [
       "agency_cd           object\n",
       "site_no              int64\n",
       "datetime            object\n",
       "tz_cd               object\n",
       "144166_00060       float64\n",
       "144166_00060_cd     object\n",
       "144167_00065       float64\n",
       "144167_00065_cd     object\n",
       "dtype: object"
      ]
     },
     "execution_count": 21,
     "metadata": {},
     "output_type": "execute_result"
    }
   ],
   "source": [
    "# how many groups are there?\n",
    "df.dtypes"
   ]
  },
  {
   "cell_type": "code",
   "execution_count": 26,
   "metadata": {},
   "outputs": [
    {
     "data": {
      "text/plain": [
       "MDT    341843\n",
       "MST    197462\n",
       "Name: tz_cd, dtype: int64"
      ]
     },
     "execution_count": 26,
     "metadata": {},
     "output_type": "execute_result"
    }
   ],
   "source": [
    "df['tz_cd'].value_counts()"
   ]
  }
 ],
 "metadata": {
  "kernelspec": {
   "display_name": "base",
   "language": "python",
   "name": "python3"
  },
  "language_info": {
   "codemirror_mode": {
    "name": "ipython",
    "version": 3
   },
   "file_extension": ".py",
   "mimetype": "text/x-python",
   "name": "python",
   "nbconvert_exporter": "python",
   "pygments_lexer": "ipython3",
   "version": "3.9.15"
  },
  "orig_nbformat": 4
 },
 "nbformat": 4,
 "nbformat_minor": 2
}
