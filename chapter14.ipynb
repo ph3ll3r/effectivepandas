{
 "cells": [
  {
   "cell_type": "code",
   "execution_count": null,
   "metadata": {},
   "outputs": [],
   "source": [
    "%matplotlib inline\n",
    "\n",
    "import pandas as pd"
   ]
  },
  {
   "cell_type": "code",
   "execution_count": null,
   "metadata": {},
   "outputs": [],
   "source": [
    "url = 'https://raw.githubusercontent.com/mattharrison/datasets/master/data/alta-noaa-1980-2019.csv'\n",
    "\n",
    "alta_df =  pd.read_csv(url)\n",
    "dates = pd.to_datetime(alta_df.DATE)\n",
    "\n",
    "snow = (alta_df\n",
    "        .SNOW\n",
    "        .rename(dates))"
   ]
  },
  {
   "cell_type": "code",
   "execution_count": null,
   "metadata": {},
   "outputs": [],
   "source": [
    "#temp = pd.read_parquet('alta_df.parquet.gzip')\n",
    "snow"
   ]
  },
  {
   "cell_type": "code",
   "execution_count": null,
   "metadata": {},
   "outputs": [],
   "source": [
    "snow.plot.hist()"
   ]
  },
  {
   "cell_type": "code",
   "execution_count": null,
   "metadata": {},
   "outputs": [],
   "source": [
    "# bins does what? \n",
    "snow[snow>0].plot.hist(bins=20, title='Snowfall histogram (in)')\n",
    "\n",
    "snow.plot.hist"
   ]
  },
  {
   "cell_type": "code",
   "execution_count": null,
   "metadata": {},
   "outputs": [],
   "source": [
    "snow.head()"
   ]
  },
  {
   "cell_type": "code",
   "execution_count": null,
   "metadata": {},
   "outputs": [],
   "source": [
    "snow.plot.box()"
   ]
  },
  {
   "cell_type": "code",
   "execution_count": null,
   "metadata": {},
   "outputs": [],
   "source": [
    "(snow\n",
    " [lambda s:(s.index.month == 1) & (s > 0)]\n",
    " .plot.box()\n",
    " \n",
    ")"
   ]
  },
  {
   "cell_type": "code",
   "execution_count": null,
   "metadata": {},
   "outputs": [],
   "source": [
    "# 14.5 kernel density estimation plot\n",
    "\n",
    "\n",
    "(snow[lambda s:(s.index.month == 1) & (s>0)]\n",
    " .plot.kde())"
   ]
  },
  {
   "cell_type": "code",
   "execution_count": null,
   "metadata": {},
   "outputs": [],
   "source": [
    "snow.plot.line()"
   ]
  },
  {
   "cell_type": "code",
   "execution_count": null,
   "metadata": {},
   "outputs": [],
   "source": [
    "(snow\n",
    " .iloc[-300:]\n",
    " .plot.line()\n",
    ")"
   ]
  },
  {
   "cell_type": "code",
   "execution_count": null,
   "metadata": {},
   "outputs": [],
   "source": [
    "(snow\n",
    " .resample('M')\n",
    " .mean()\n",
    " .plot.line())"
   ]
  },
  {
   "cell_type": "code",
   "execution_count": null,
   "metadata": {},
   "outputs": [],
   "source": [
    "(snow\n",
    " .resample('Q')\n",
    " .quantile([.5, .9, .99])\n",
    " .unstack()\n",
    " .iloc[-100:]\n",
    " .plot.line()\n",
    " )\n",
    "\n"
   ]
  },
  {
   "cell_type": "code",
   "execution_count": null,
   "metadata": {},
   "outputs": [],
   "source": [
    "season2017 = (snow\n",
    "              .loc['2016-10':'2017-05'])\n",
    "\n",
    "(season2017\n",
    " .resample('M')\n",
    " .sum()\n",
    " .div(season2017.sum())\n",
    " .mul(100)\n",
    " .rename(lambda idx: idx.month_name())\n",
    ")"
   ]
  },
  {
   "cell_type": "code",
   "execution_count": null,
   "metadata": {},
   "outputs": [],
   "source": [
    "(season2017\n",
    " .resample('M')\n",
    " .sum()\n",
    " .div(season2017.sum())\n",
    " .mul(100)\n",
    " .rename(lambda idx: idx.month_name())\n",
    " .plot.bar(title='2017 Monthly Percent of Snowfall')\n",
    ")"
   ]
  },
  {
   "cell_type": "code",
   "execution_count": null,
   "metadata": {},
   "outputs": [],
   "source": [
    "(season2017\n",
    " .resample('M')\n",
    " .sum()\n",
    " .div(season2017.sum())\n",
    " .mul(100)\n",
    " .rename(lambda idx: idx.month_name())\n",
    " .plot.barh(title='2017 Monthly Percent of Snowfall')\n",
    ")"
   ]
  },
  {
   "cell_type": "code",
   "execution_count": null,
   "metadata": {},
   "outputs": [],
   "source": [
    "url = 'https://github.com/mattharrison/datasets/raw/master/data/vehicles.csv.zip'\n",
    "df = pd.read_csv(url)\n",
    "\n",
    "\n",
    "\n",
    "\n",
    "\n",
    "make = df.make\n"
   ]
  },
  {
   "cell_type": "code",
   "execution_count": null,
   "metadata": {},
   "outputs": [],
   "source": [
    "make.value_counts()"
   ]
  },
  {
   "cell_type": "code",
   "execution_count": null,
   "metadata": {},
   "outputs": [],
   "source": [
    "(make\n",
    " .value_counts()\n",
    " .plot.bar()\n",
    ")"
   ]
  },
  {
   "cell_type": "code",
   "execution_count": null,
   "metadata": {},
   "outputs": [],
   "source": [
    "top10 = make.value_counts().index[:10]\n",
    "\n",
    "(make\n",
    " .where(make.isin(top10), 'Other')\n",
    " .value_counts()\n",
    " .plot.barh()\n",
    ")"
   ]
  },
  {
   "cell_type": "code",
   "execution_count": null,
   "metadata": {},
   "outputs": [],
   "source": [
    "#14.9\n",
    "\n",
    "(season2017\n",
    " .resample('M')\n",
    " .sum()\n",
    " .div(season2017.sum())\n",
    " .mul(100)\n",
    " .rename(lambda idx: idx.month_name())\n",
    " .plot.pie(title='2017 Monthly Percent of Snowfall')\n",
    ")"
   ]
  },
  {
   "cell_type": "code",
   "execution_count": null,
   "metadata": {},
   "outputs": [],
   "source": [
    "#14.10 Styling\n",
    "\n",
    "import matplotlib\n",
    "import seaborn as sns\n",
    "\n",
    "import matplotlib.pyplot as plt\n",
    "\n",
    "\n",
    "\n",
    "\n",
    "\n",
    "\n"
   ]
  },
  {
   "cell_type": "code",
   "execution_count": null,
   "metadata": {},
   "outputs": [],
   "source": [
    "sns.plotting_context()"
   ]
  },
  {
   "cell_type": "code",
   "execution_count": null,
   "metadata": {},
   "outputs": [],
   "source": [
    "color_palette = [\"#440154\",\"#482677\",\"#404788\",\"#33638d\",\"#287d8e\",\"#1f968b\",\"#29af7f\",\"#55c667\",\"#73d055\",\"#b8de29\",\"#fde725\"]\n",
    "\n",
    "fp = matplotlib.font_manager.FontProperties(fname='/Fonts/roboto/Roboto-Condensed.ttf')\n",
    "\n",
    "with sns.plotting_context(rc=dict(font='Roboto', palette=color_palette)):\n",
    "    fig, ax = plt.subplots(dpi=600, figsize=(10,4))\n",
    "    snow.plot.hist()\n",
    "    fig.savefig('snowhist.png', dpi=600, bbox_inches='tight')\n"
   ]
  },
  {
   "cell_type": "code",
   "execution_count": null,
   "metadata": {},
   "outputs": [],
   "source": [
    "sns.plotting_context()"
   ]
  }
 ],
 "metadata": {
  "kernelspec": {
   "display_name": "base",
   "language": "python",
   "name": "python3"
  },
  "language_info": {
   "codemirror_mode": {
    "name": "ipython",
    "version": 3
   },
   "file_extension": ".py",
   "mimetype": "text/x-python",
   "name": "python",
   "nbconvert_exporter": "python",
   "pygments_lexer": "ipython3",
   "version": "3.9.15"
  },
  "orig_nbformat": 4,
  "vscode": {
   "interpreter": {
    "hash": "942bb7d924bc59037bd6d0b70197e5f1c049379bb31e98466f77a36d9d06bc68"
   }
  }
 },
 "nbformat": 4,
 "nbformat_minor": 2
}
