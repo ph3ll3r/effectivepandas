{
 "cells": [
  {
   "attachments": {},
   "cell_type": "markdown",
   "metadata": {},
   "source": [
    "Chapter 21\n",
    "Creating and Updating Columns"
   ]
  },
  {
   "cell_type": "code",
   "execution_count": 71,
   "metadata": {},
   "outputs": [],
   "source": [
    "# deletes variables\n",
    "%reset -f"
   ]
  },
  {
   "cell_type": "code",
   "execution_count": null,
   "metadata": {},
   "outputs": [],
   "source": [
    "import pandas as pd\n",
    "\n",
    "pd.set_option('display.max_rows', 10)             \n",
    "url = 'https://github.com/mattharrison/datasets/raw/master/data/'\\\n",
    "    '2020-jetbrains-python-survey.csv'\n",
    "\n",
    "jb = pd.read_csv(url)\n",
    "\n"
   ]
  },
  {
   "cell_type": "code",
   "execution_count": null,
   "metadata": {},
   "outputs": [],
   "source": [
    "\n",
    "jb.info()"
   ]
  },
  {
   "cell_type": "code",
   "execution_count": null,
   "metadata": {},
   "outputs": [],
   "source": [
    "# create a series to look at names of columns \n",
    "cols = pd.Series(jb.columns)"
   ]
  },
  {
   "cell_type": "code",
   "execution_count": null,
   "metadata": {},
   "outputs": [],
   "source": [
    "cols"
   ]
  },
  {
   "cell_type": "code",
   "execution_count": null,
   "metadata": {},
   "outputs": [],
   "source": [
    "# determine if a feature( column) can have multiple values(like database) and remove those.\n",
    "import collections\n",
    "counter = collections.defaultdict(list)\n",
    "\n",
    "for col in sorted(jb.columns):\n",
    "    period_count = col.count('.')\n",
    "    if period_count >= 2:\n",
    "        part_end = 2\n",
    "    else:\n",
    "        part_end = 1\n",
    "    parts = col.split('.')[:part_end]\n",
    "    temp = '.'.join(parts)\n",
    "    counter['.'.join(parts)].append(col)\n",
    "\n",
    "\n"
   ]
  },
  {
   "cell_type": "code",
   "execution_count": null,
   "metadata": {},
   "outputs": [],
   "source": [
    "uniq_cols = []\n",
    "for cols in counter.values():\n",
    "    if len(cols) ==1:\n",
    "        uniq_cols.extend(cols)"
   ]
  },
  {
   "cell_type": "code",
   "execution_count": null,
   "metadata": {},
   "outputs": [],
   "source": [
    "uniq_cols"
   ]
  },
  {
   "cell_type": "code",
   "execution_count": null,
   "metadata": {},
   "outputs": [],
   "source": [
    "# the age column\n",
    "# note when type age the autocomple want to use aggregate use the esc key to stop this\n",
    "(jb[uniq_cols]\n",
    " .rename(columns=lambda c: c.replace('.','_'))\n",
    " .age\n",
    " .value_counts(dropna=False)\n",
    " )"
   ]
  },
  {
   "cell_type": "code",
   "execution_count": null,
   "metadata": {},
   "outputs": [],
   "source": [
    "# can't convert to Int64 because of the bug\n",
    "# https://github.com/pandas-dev/pandas/issues/33254\n",
    "# but you can chain it like below\n",
    "(jb[uniq_cols]\n",
    " .rename(columns=lambda c: c.replace('.','_'))\n",
    " .age\n",
    " .str.slice(0,2)  # can also use str[0:2]\n",
    " .astype(float)\n",
    " #.astype('Int64')   \n",
    " )"
   ]
  },
  {
   "cell_type": "code",
   "execution_count": null,
   "metadata": {},
   "outputs": [],
   "source": [
    "(jb[uniq_cols]\n",
    " .rename(columns=lambda c: c.replace('.','_'))\n",
    " .age\n",
    " .str.slice(0,2)  # can also use str[0:2]\n",
    " .astype(float)\n",
    " .astype('Int64')   \n",
    " )"
   ]
  },
  {
   "attachments": {},
   "cell_type": "markdown",
   "metadata": {},
   "source": [
    "Chaining \n",
    "https://pandas.pydata.org/docs/user_guide/indexing.html#returning-a-view-versus-a-copy"
   ]
  },
  {
   "cell_type": "code",
   "execution_count": null,
   "metadata": {},
   "outputs": [],
   "source": [
    "import numpy as np\n",
    "\n",
    "(jb[uniq_cols]\n",
    " .rename(columns=lambda c: c.replace('.','_'))\n",
    " .assign(age=lambda df_:df_.age.str.slice(0,2)\n",
    "         .astype(float) .astype('Int64'),\n",
    "         are_you_datascientist=lambda df_:df_.are_you_datascientist\n",
    "         .replace({'Yes': True, 'No': False, np.nan: False})\n",
    "        )\n",
    "    .are_you_datascientist\n",
    " )"
   ]
  },
  {
   "cell_type": "code",
   "execution_count": null,
   "metadata": {},
   "outputs": [],
   "source": [
    "(jb[uniq_cols]\n",
    " .rename(columns=lambda c: c.replace('.','_'))\n",
    " .assign(age=lambda df_:df_.age.str.slice(0,2)\n",
    "         .astype(float) .astype('Int64'),\n",
    "         are_you_datascientist=lambda df_:df_.are_you_datascientist\n",
    "         .replace({'Yes': True, 'No': False, np.nan: False})\n",
    "        )\n",
    "    .company_size\n",
    "    .value_counts(dropna=False)\n",
    " )"
   ]
  },
  {
   "cell_type": "code",
   "execution_count": null,
   "metadata": {},
   "outputs": [],
   "source": [
    "\n",
    "\n",
    "company_size=lambda df_:df_.company_size.replace({'Just me': 1,\n",
    "    'Not sure': np.nan, 'More than 5,000': 5000, '2-10': 2, '11-50': 11, \n",
    "    '51-500': 51, '501-1,000': 501,\n",
    "    '1,001-5000': 1001})\n"
   ]
  },
  {
   "cell_type": "code",
   "execution_count": null,
   "metadata": {},
   "outputs": [],
   "source": [
    "jb2 = (jb[uniq_cols]\n",
    " .rename(columns=lambda c: c.replace('.','_'))\n",
    " .assign(age=lambda df_:df_.age.str.slice(0,2)\n",
    "         .astype(float) .astype('Int64'),\n",
    "         are_you_datascientist=lambda df_:df_.are_you_datascientist\n",
    "         .replace({'Yes': True, 'No': False, np.nan: False}),\n",
    "         company_size=lambda df_:df_.company_size.replace({\n",
    "            'Just me': 1, 'Not sure': np.nan, \n",
    "            'More than 5,000': 5000, '2–10': 2, '11–50': 11, \n",
    "            '51–500': 51, '501–1,000': 501,\n",
    "            '1,001–5,000': 1001}).astype('Int64'),\n",
    "            country_live=lambda df_:df_.country_live.astype('category'),\n",
    "            employment_status=lambda df_:df_.employment_status\n",
    "               .fillna('Other').astype('category'),\n",
    "            is_python_main=lambda df_:df_.is_python_main.astype('category'),\n",
    "            team_size=lambda df_:df_.team_size\n",
    "               .str.split(r'-', n=1, expand=True)\n",
    "               .iloc[:,0].replace('More than 40 people', 41)\n",
    "               .where(df_.company_size!=1, 1).astype(float),\n",
    "            years_of_coding=lambda df_:df_.years_of_coding\n",
    "               .replace('Less than 1 year', .5).str.extract(r'(\\d+)')\n",
    "               .astype(float),\n",
    "            python_years=lambda df_:df_.python_years\n",
    "               .replace('Less than 1 year', .5).str.extract(r'(\\d+)')\n",
    "               .astype(float),\n",
    "            python3_ver=lambda df_:df_.python3_version_most\n",
    "               .str.replace('_', '.').str.extract(r'(\\d\\.\\d)')\n",
    "               .astype(float),\n",
    "            use_python_most=lambda df_:df_.use_python_most\n",
    "               .fillna('Unknow')\n",
    "\n",
    "        )\n",
    "   .drop(columns=['python2_version_most'])\n",
    "    #.team_size\n",
    "    #.value_counts(dropna=False)\n",
    " )"
   ]
  },
  {
   "cell_type": "code",
   "execution_count": null,
   "metadata": {},
   "outputs": [],
   "source": [
    "jb2"
   ]
  },
  {
   "cell_type": "code",
   "execution_count": null,
   "metadata": {},
   "outputs": [],
   "source": [
    "(jb2\n",
    " .query('team_size.isna()')\n",
    " .employment_status\n",
    " .value_counts(dropna=False)\n",
    ")"
   ]
  },
  {
   "cell_type": "code",
   "execution_count": null,
   "metadata": {},
   "outputs": [],
   "source": [
    "import catboost as cb\n",
    "import numpy as np\n",
    "\n",
    "import pandas as pd\n",
    "\n",
    "import collections"
   ]
  },
  {
   "cell_type": "code",
   "execution_count": null,
   "metadata": {},
   "outputs": [],
   "source": [
    "def get_uniq_cols(jb):\n",
    "    counter = collections.defaultdict(list)\n",
    "    for col in sorted(jb.columns):\n",
    "        period_count = col.count('.')\n",
    "        if period_count >= 2:\n",
    "            part_end = 2\n",
    "        else:\n",
    "            part_end = 1\n",
    "        parts = col.split('.')[:part_end]\n",
    "        counter['.'.join(parts)].append(col)\n",
    "    uniq_cols = []\n",
    "    for cols in counter.values():\n",
    "        if len(cols) == 1:\n",
    "            uniq_cols.extend(cols)\n",
    "    return uniq_cols\n",
    "\n",
    "\n"
   ]
  },
  {
   "cell_type": "code",
   "execution_count": null,
   "metadata": {},
   "outputs": [],
   "source": [
    "def prep_for_ml(df):\n",
    "    #remove pandas types  float, object and category\n",
    "    return (df\n",
    "            .assign(**{col:df[col].astype(float) for col in df.select_dtypes('number')},\n",
    "                    **{col:df[col].astype(str) for col in df.select_dtypes(['object', 'category'])})\n",
    "    )\n",
    "\n",
    "\n",
    "   "
   ]
  },
  {
   "cell_type": "code",
   "execution_count": null,
   "metadata": {},
   "outputs": [],
   "source": [
    "def predict_col(df, col):\n",
    "    #predict the missing values for team_size\n",
    "    df = prep_for_ml(df)\n",
    "    missing = df.query(f'~{col}.isna()')\n",
    "    cat_idx = []\n",
    "    for i,typ in enumerate(df.drop(columns=[col]).dtypes):\n",
    "                if str(typ) == 'object':\n",
    "                    cat_idx.append(i)\n",
    "    X = (missing\n",
    "         .drop(columns=[col])\n",
    "         .values\n",
    "         )\n",
    "    y = missing[col]\n",
    "    model = cb.CatBoostRegressor(iterations=20, cat_features=cat_idx)\n",
    "    model.fit(X, y, cat_features=cat_idx)\n",
    "    pred = model.predict(df.drop(columns=[col]))\n",
    "    return df[col].where(~df[col].isna(), pred)"
   ]
  },
  {
   "cell_type": "code",
   "execution_count": null,
   "metadata": {},
   "outputs": [],
   "source": [
    "def tweak_jb(jb):\n",
    "   uniq_cols = get_uniq_cols(jb)\n",
    "\n",
    "   return  (jb[uniq_cols]\n",
    "   .rename(columns=lambda c: c.replace('.','_'))\n",
    "   .assign(age=lambda df_:df_.age.str.slice(0,2)\n",
    "            .astype(float) .astype('Int64'),\n",
    "            are_you_datascientist=lambda df_:df_.are_you_datascientist\n",
    "            .replace({'Yes': True, 'No': False, np.nan: False}),\n",
    "            company_size=lambda df_:df_.company_size.replace({\n",
    "               'Just me': 1, 'Not sure': np.nan, \n",
    "               'More than 5,000': 5000, '2–10': 2, '11–50': 11, \n",
    "               '51–500': 51, '501–1,000': 501,\n",
    "               '1,001–5,000': 1001}).astype('Int64'),\n",
    "               country_live=lambda df_:df_.country_live.astype('category'),\n",
    "               employment_status=lambda df_:df_.employment_status\n",
    "                  .fillna('Other').astype('category'),\n",
    "               is_python_main=lambda df_:df_.is_python_main.astype('category'),\n",
    "               team_size=lambda df_:df_.team_size\n",
    "                  .str.split(r'-', n=1, expand=True)\n",
    "                  .iloc[:,0].replace('More than 40 people', 41)\n",
    "                  .where(df_.company_size!=1, 1).astype(float),\n",
    "               years_of_coding=lambda df_:df_.years_of_coding\n",
    "                  .replace('Less than 1 year', .5).str.extract(r'(\\d+)')\n",
    "                  .astype(float),\n",
    "               python_years=lambda df_:df_.python_years\n",
    "                  .replace('Less than 1 year', .5).str.extract(r'(\\d+)')\n",
    "                  .astype(float),\n",
    "               python3_ver=lambda df_:df_.python3_version_most\n",
    "                  .str.replace('_', '.').str.extract(r'(\\d\\.\\d)')\n",
    "                  .astype(float),\n",
    "               use_python_most=lambda df_:df_.use_python_most\n",
    "                  .fillna('Unknown')\n",
    "\n",
    "         )\n",
    "      .assign(team_size=lambda df_:predict_col(df_, 'team_size')\n",
    "            .astype(int))\n",
    "      .drop(columns=['python2_version_most'])\n",
    "      .dropna()\n",
    ")"
   ]
  },
  {
   "cell_type": "code",
   "execution_count": null,
   "metadata": {},
   "outputs": [],
   "source": [
    "url = 'https://github.com/mattharrison/datasets/raw/master/data/'\\\n",
    "    '2020-jetbrains-python-survey.csv'\n",
    "\n",
    "jb = pd.read_csv(url)\n",
    "\n"
   ]
  },
  {
   "cell_type": "code",
   "execution_count": null,
   "metadata": {},
   "outputs": [],
   "source": [
    "pd.set_option('display.max_rows', 50)   "
   ]
  },
  {
   "cell_type": "code",
   "execution_count": null,
   "metadata": {},
   "outputs": [],
   "source": [
    "jb2 = tweak_jb(jb)\n",
    "\n"
   ]
  },
  {
   "cell_type": "code",
   "execution_count": null,
   "metadata": {},
   "outputs": [],
   "source": [
    "jb2"
   ]
  }
 ],
 "metadata": {
  "kernelspec": {
   "display_name": "base",
   "language": "python",
   "name": "python3"
  },
  "language_info": {
   "codemirror_mode": {
    "name": "ipython",
    "version": 3
   },
   "file_extension": ".py",
   "mimetype": "text/x-python",
   "name": "python",
   "nbconvert_exporter": "python",
   "pygments_lexer": "ipython3",
   "version": "3.9.15"
  },
  "orig_nbformat": 4,
  "vscode": {
   "interpreter": {
    "hash": "942bb7d924bc59037bd6d0b70197e5f1c049379bb31e98466f77a36d9d06bc68"
   }
  }
 },
 "nbformat": 4,
 "nbformat_minor": 2
}
