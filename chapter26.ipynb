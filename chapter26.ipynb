{
 "cells": [
  {
   "attachments": {},
   "cell_type": "markdown",
   "metadata": {},
   "source": [
    "Chapter 26 Reshaping Dataframes with Dummies"
   ]
  },
  {
   "cell_type": "code",
   "execution_count": null,
   "metadata": {},
   "outputs": [],
   "source": [
    "%reset -f"
   ]
  },
  {
   "cell_type": "code",
   "execution_count": 2,
   "metadata": {},
   "outputs": [
    {
     "name": "stderr",
     "output_type": "stream",
     "text": [
      "C:\\Users\\wgrom\\AppData\\Local\\Temp\\ipykernel_17280\\1713115966.py:7: DtypeWarning: Columns (152) have mixed types. Specify dtype option on import or set low_memory=False.\n",
      "  jb = pd.read_csv(url)\n"
     ]
    }
   ],
   "source": [
    "import pandas as pd\n",
    "\n",
    "pd.set_option('display.max_rows', 10)             \n",
    "url = 'https://github.com/mattharrison/datasets/raw/master/data/'\\\n",
    "    '2020-jetbrains-python-survey.csv'\n",
    "\n",
    "jb = pd.read_csv(url)\n"
   ]
  },
  {
   "cell_type": "code",
   "execution_count": null,
   "metadata": {},
   "outputs": [],
   "source": [
    "jb.filter(like='job.role')"
   ]
  },
  {
   "cell_type": "code",
   "execution_count": null,
   "metadata": {},
   "outputs": [],
   "source": [
    "# book shows a different output , it shows multiple columns job.role\n",
    "\n",
    "(jb\n",
    " .filter(like=r'job.role.*t')\n",
    " .where(jb.isna(), 1)\n",
    " )"
   ]
  },
  {
   "cell_type": "code",
   "execution_count": null,
   "metadata": {},
   "outputs": [],
   "source": [
    "(jb\n",
    " .filter(regex='job.role.*t')\n",
    " .where(jb.isna(), 1)\n",
    " )"
   ]
  },
  {
   "cell_type": "code",
   "execution_count": null,
   "metadata": {},
   "outputs": [],
   "source": [
    "(jb\n",
    " .filter(regex='job.role.*t')\n",
    " .where(jb.isna(), 1)\n",
    " .fillna(0)\n",
    ")"
   ]
  },
  {
   "cell_type": "code",
   "execution_count": null,
   "metadata": {},
   "outputs": [],
   "source": [
    "(jb\n",
    " .filter(regex='job.role.*t')\n",
    " .where(jb.isna(), 1)\n",
    " .fillna(0)\n",
    " .idxmax(axis='columns')\n",
    ")"
   ]
  },
  {
   "cell_type": "code",
   "execution_count": 12,
   "metadata": {},
   "outputs": [],
   "source": [
    "job =(jb\n",
    " .filter(regex='job.role.*t')\n",
    " .where(jb.isna(), 1)\n",
    " .fillna(0)\n",
    " .idxmax(axis='columns')\n",
    " .str.replace('job.role.','', regex=False)\n",
    ")"
   ]
  },
  {
   "cell_type": "code",
   "execution_count": 13,
   "metadata": {},
   "outputs": [],
   "source": [
    "dum = pd.get_dummies(job)"
   ]
  },
  {
   "cell_type": "code",
   "execution_count": 14,
   "metadata": {},
   "outputs": [
    {
     "data": {
      "text/html": [
       "<div>\n",
       "<style scoped>\n",
       "    .dataframe tbody tr th:only-of-type {\n",
       "        vertical-align: middle;\n",
       "    }\n",
       "\n",
       "    .dataframe tbody tr th {\n",
       "        vertical-align: top;\n",
       "    }\n",
       "\n",
       "    .dataframe thead th {\n",
       "        text-align: right;\n",
       "    }\n",
       "</style>\n",
       "<table border=\"1\" class=\"dataframe\">\n",
       "  <thead>\n",
       "    <tr style=\"text-align: right;\">\n",
       "      <th></th>\n",
       "      <th>Architect</th>\n",
       "      <th>Business analyst</th>\n",
       "      <th>Data analyst</th>\n",
       "      <th>Other</th>\n",
       "      <th>Product manager</th>\n",
       "      <th>Systems analyst</th>\n",
       "      <th>Technical support</th>\n",
       "      <th>Technical writer</th>\n",
       "    </tr>\n",
       "  </thead>\n",
       "  <tbody>\n",
       "    <tr>\n",
       "      <th>0</th>\n",
       "      <td>0</td>\n",
       "      <td>1</td>\n",
       "      <td>0</td>\n",
       "      <td>0</td>\n",
       "      <td>0</td>\n",
       "      <td>0</td>\n",
       "      <td>0</td>\n",
       "      <td>0</td>\n",
       "    </tr>\n",
       "    <tr>\n",
       "      <th>1</th>\n",
       "      <td>1</td>\n",
       "      <td>0</td>\n",
       "      <td>0</td>\n",
       "      <td>0</td>\n",
       "      <td>0</td>\n",
       "      <td>0</td>\n",
       "      <td>0</td>\n",
       "      <td>0</td>\n",
       "    </tr>\n",
       "    <tr>\n",
       "      <th>2</th>\n",
       "      <td>0</td>\n",
       "      <td>0</td>\n",
       "      <td>0</td>\n",
       "      <td>0</td>\n",
       "      <td>0</td>\n",
       "      <td>0</td>\n",
       "      <td>1</td>\n",
       "      <td>0</td>\n",
       "    </tr>\n",
       "    <tr>\n",
       "      <th>3</th>\n",
       "      <td>1</td>\n",
       "      <td>0</td>\n",
       "      <td>0</td>\n",
       "      <td>0</td>\n",
       "      <td>0</td>\n",
       "      <td>0</td>\n",
       "      <td>0</td>\n",
       "      <td>0</td>\n",
       "    </tr>\n",
       "    <tr>\n",
       "      <th>4</th>\n",
       "      <td>1</td>\n",
       "      <td>0</td>\n",
       "      <td>0</td>\n",
       "      <td>0</td>\n",
       "      <td>0</td>\n",
       "      <td>0</td>\n",
       "      <td>0</td>\n",
       "      <td>0</td>\n",
       "    </tr>\n",
       "    <tr>\n",
       "      <th>...</th>\n",
       "      <td>...</td>\n",
       "      <td>...</td>\n",
       "      <td>...</td>\n",
       "      <td>...</td>\n",
       "      <td>...</td>\n",
       "      <td>...</td>\n",
       "      <td>...</td>\n",
       "      <td>...</td>\n",
       "    </tr>\n",
       "    <tr>\n",
       "      <th>54457</th>\n",
       "      <td>0</td>\n",
       "      <td>0</td>\n",
       "      <td>0</td>\n",
       "      <td>0</td>\n",
       "      <td>0</td>\n",
       "      <td>1</td>\n",
       "      <td>0</td>\n",
       "      <td>0</td>\n",
       "    </tr>\n",
       "    <tr>\n",
       "      <th>54458</th>\n",
       "      <td>1</td>\n",
       "      <td>0</td>\n",
       "      <td>0</td>\n",
       "      <td>0</td>\n",
       "      <td>0</td>\n",
       "      <td>0</td>\n",
       "      <td>0</td>\n",
       "      <td>0</td>\n",
       "    </tr>\n",
       "    <tr>\n",
       "      <th>54459</th>\n",
       "      <td>1</td>\n",
       "      <td>0</td>\n",
       "      <td>0</td>\n",
       "      <td>0</td>\n",
       "      <td>0</td>\n",
       "      <td>0</td>\n",
       "      <td>0</td>\n",
       "      <td>0</td>\n",
       "    </tr>\n",
       "    <tr>\n",
       "      <th>54460</th>\n",
       "      <td>0</td>\n",
       "      <td>0</td>\n",
       "      <td>1</td>\n",
       "      <td>0</td>\n",
       "      <td>0</td>\n",
       "      <td>0</td>\n",
       "      <td>0</td>\n",
       "      <td>0</td>\n",
       "    </tr>\n",
       "    <tr>\n",
       "      <th>54461</th>\n",
       "      <td>1</td>\n",
       "      <td>0</td>\n",
       "      <td>0</td>\n",
       "      <td>0</td>\n",
       "      <td>0</td>\n",
       "      <td>0</td>\n",
       "      <td>0</td>\n",
       "      <td>0</td>\n",
       "    </tr>\n",
       "  </tbody>\n",
       "</table>\n",
       "<p>54462 rows × 8 columns</p>\n",
       "</div>"
      ],
      "text/plain": [
       "       Architect  Business analyst  Data analyst  Other  Product manager  \\\n",
       "0              0                 1             0      0                0   \n",
       "1              1                 0             0      0                0   \n",
       "2              0                 0             0      0                0   \n",
       "3              1                 0             0      0                0   \n",
       "4              1                 0             0      0                0   \n",
       "...          ...               ...           ...    ...              ...   \n",
       "54457          0                 0             0      0                0   \n",
       "54458          1                 0             0      0                0   \n",
       "54459          1                 0             0      0                0   \n",
       "54460          0                 0             1      0                0   \n",
       "54461          1                 0             0      0                0   \n",
       "\n",
       "       Systems analyst  Technical support  Technical writer  \n",
       "0                    0                  0                 0  \n",
       "1                    0                  0                 0  \n",
       "2                    0                  1                 0  \n",
       "3                    0                  0                 0  \n",
       "4                    0                  0                 0  \n",
       "...                ...                ...               ...  \n",
       "54457                1                  0                 0  \n",
       "54458                0                  0                 0  \n",
       "54459                0                  0                 0  \n",
       "54460                0                  0                 0  \n",
       "54461                0                  0                 0  \n",
       "\n",
       "[54462 rows x 8 columns]"
      ]
     },
     "execution_count": 14,
     "metadata": {},
     "output_type": "execute_result"
    }
   ],
   "source": [
    "dum"
   ]
  },
  {
   "attachments": {},
   "cell_type": "markdown",
   "metadata": {},
   "source": [
    "26.2 Undoing Dummy Columns\n",
    "\n",
    "2 ways idxmax and using NumPy arrays\n",
    "\n"
   ]
  },
  {
   "cell_type": "code",
   "execution_count": 6,
   "metadata": {},
   "outputs": [
    {
     "data": {
      "text/plain": [
       "0         .Business analyst\n",
       "1                .Architect\n",
       "2        .Technical support\n",
       "3                .Architect\n",
       "4                .Architect\n",
       "                ...        \n",
       "54457      .Systems analyst\n",
       "54458            .Architect\n",
       "54459            .Architect\n",
       "54460         .Data analyst\n",
       "54461            .Architect\n",
       "Length: 54462, dtype: object"
      ]
     },
     "execution_count": 6,
     "metadata": {},
     "output_type": "execute_result"
    }
   ],
   "source": [
    "dum.idxmax(axis='columns')"
   ]
  },
  {
   "cell_type": "code",
   "execution_count": 9,
   "metadata": {},
   "outputs": [
    {
     "data": {
      "text/plain": [
       "pandas.core.frame.DataFrame"
      ]
     },
     "execution_count": 9,
     "metadata": {},
     "output_type": "execute_result"
    }
   ],
   "source": [
    "type(dum.idxmax(axis='columns'))\n",
    "\n",
    "type(dum)"
   ]
  },
  {
   "cell_type": "code",
   "execution_count": 10,
   "metadata": {},
   "outputs": [],
   "source": [
    "# fasted way NumPy\n",
    "\n",
    "\n",
    "\n",
    "import numpy as np\n",
    "\n",
    "# dataframe dum to a i, j ndarrays\n",
    "\n",
    "i, j = np.where(dum)"
   ]
  },
  {
   "cell_type": "code",
   "execution_count": 16,
   "metadata": {},
   "outputs": [
    {
     "data": {
      "text/plain": [
       "0         Business analyst\n",
       "1                Architect\n",
       "2        Technical support\n",
       "3                Architect\n",
       "4                Architect\n",
       "               ...        \n",
       "54457      Systems analyst\n",
       "54458            Architect\n",
       "54459            Architect\n",
       "54460         Data analyst\n",
       "54461            Architect\n",
       "Length: 54462, dtype: object"
      ]
     },
     "execution_count": 16,
     "metadata": {},
     "output_type": "execute_result"
    }
   ],
   "source": [
    "pd.Series(dum.columns[j],i)"
   ]
  }
 ],
 "metadata": {
  "kernelspec": {
   "display_name": "base",
   "language": "python",
   "name": "python3"
  },
  "language_info": {
   "codemirror_mode": {
    "name": "ipython",
    "version": 3
   },
   "file_extension": ".py",
   "mimetype": "text/x-python",
   "name": "python",
   "nbconvert_exporter": "python",
   "pygments_lexer": "ipython3",
   "version": "3.9.15"
  },
  "orig_nbformat": 4,
  "vscode": {
   "interpreter": {
    "hash": "942bb7d924bc59037bd6d0b70197e5f1c049379bb31e98466f77a36d9d06bc68"
   }
  }
 },
 "nbformat": 4,
 "nbformat_minor": 2
}
