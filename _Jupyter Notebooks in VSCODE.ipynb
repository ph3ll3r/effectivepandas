{
 "cells": [
  {
   "cell_type": "markdown",
   "metadata": {},
   "source": [
    "# Jupyter Notebooks in VS Code  (https://code.visualstudio.com/docs/datascience/jupyter-notebooks)"
   ]
  },
  {
   "cell_type": "markdown",
   "metadata": {},
   "source": [
    "## Markdown and Visual Studio Code (https://code.visualstudio.com/docs/languages/markdown)\n",
    "Working with Markdown files in Visual Studio Code is simple, straightforward, and fun. Besides VS Code's basic editing, there are a number of Markdown specific features that will help you be more productive."
   ]
  },
  {
   "cell_type": "markdown",
   "metadata": {},
   "source": []
  },
  {
   "cell_type": "markdown",
   "metadata": {},
   "source": [
    "<font color=yellow>Jupyter (formerly IPython Notebook) is an open-source project that lets you easily combine Markdown text and executable Python source code on one canvas called a notebook.</font>\n",
    "\n",
    "Visual Studio Code supports working with Jupyter Notebooks natively, and through Python code files. \n",
    "\n",
    "This topic covers the native support available for Jupyter Notebooks and demonstrates how to:\n",
    "- Create\n",
    "- open\n",
    "- save Jupyter Notebooks\n",
    "\n",
    "Work with Jupyter code cells\n",
    "- View\n",
    "- inspect\n",
    "- filter variables using the Variable Explorer and Data Viewer\n",
    "- Connect to a remote Jupyter server\n",
    "- Debug a Jupyter Notebook"
   ]
  }
 ],
 "metadata": {
  "language_info": {
   "name": "python"
  }
 },
 "nbformat": 4,
 "nbformat_minor": 2
}
