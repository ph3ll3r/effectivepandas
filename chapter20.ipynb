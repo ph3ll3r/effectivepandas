{
 "cells": [
  {
   "cell_type": "code",
   "execution_count": null,
   "metadata": {},
   "outputs": [],
   "source": [
    "\n",
    "\n",
    "\n",
    "def tweak_siena_pres(df):\n",
    "    def int64_to_uint8(df_):\n",
    "        cols = df_.select_dtypes('int64')\n",
    "        return (df_\n",
    "                .astype({col:'uint8' for col in cols}))\n",
    "\n",
    "\n",
    "    return (df\n",
    "     .rename(columns={'Seq.':'Seq'})    # 1\n",
    "     .rename(columns={k:v.replace(' ', '_') for k,v in\n",
    "        {'Bg': 'Background',\n",
    "         'PL': 'Party leadership', 'CAb': 'Communication ability',\n",
    "         'RC': 'Relations with Congress', 'CAp': 'Court appointments',\n",
    "         'HE': 'Handling of economy', 'L': 'Luck',\n",
    "         'AC': 'Ability to compromise', 'WR': 'Willing to take risks',\n",
    "         'EAp': 'Executive appointments', 'OA': 'Overall ability',\n",
    "         'Im': 'Imagination', 'DA': 'Domestic accomplishments',\n",
    "         'Int': 'Integrity', 'EAb': 'Executive ability',\n",
    "         'FPA': 'Foreign policy accomplishments',\n",
    "         'LA': 'Leadership ability',\n",
    "         'IQ': 'Intelligence', 'AM': 'Avoid crucial mistakes',\n",
    "         'EV': \"Experts' view\", 'O': 'Overall'}.items()})\n",
    "     .astype({'Party':'category'})  # 2\n",
    "     .pipe(int64_to_uint8)  # 3\n",
    "     .assign(Average_rank=lambda df_:(df_.select_dtypes('uint8') # 4\n",
    "                 .sum(axis=1).rank(method='dense').astype('uint8')),\n",
    "             Quartile=lambda df_:pd.qcut(df_.Average_rank, 4,\n",
    "                 labels='1st 2nd 3rd 4th'.split())\n",
    "            )\n",
    "    )"
   ]
  },
  {
   "cell_type": "markdown",
   "metadata": {},
   "source": []
  },
  {
   "cell_type": "code",
   "execution_count": null,
   "metadata": {},
   "outputs": [],
   "source": [
    "import pandas as pd\n",
    "\n",
    "pd.set_option('display.max_rows', 10)             \n",
    "url = 'https://github.com/mattharrison/datasets/raw/master/data/'\\\n",
    "    'siena2018-pres.csv'\n",
    "df = pd.read_csv(url, index_col=0)\n",
    "\n",
    "pres = tweak_siena_pres(df)\n"
   ]
  },
  {
   "cell_type": "code",
   "execution_count": null,
   "metadata": {},
   "outputs": [],
   "source": [
    "df.memory_usage(deep=True)"
   ]
  },
  {
   "cell_type": "code",
   "execution_count": null,
   "metadata": {},
   "outputs": [],
   "source": [
    "pres.memory_usage(deep=True)"
   ]
  },
  {
   "cell_type": "code",
   "execution_count": null,
   "metadata": {},
   "outputs": [],
   "source": [
    "pres.info(memory_usage='deep')"
   ]
  }
 ],
 "metadata": {
  "kernelspec": {
   "display_name": "base",
   "language": "python",
   "name": "python3"
  },
  "language_info": {
   "codemirror_mode": {
    "name": "ipython",
    "version": 3
   },
   "file_extension": ".py",
   "mimetype": "text/x-python",
   "name": "python",
   "nbconvert_exporter": "python",
   "pygments_lexer": "ipython3",
   "version": "3.9.15"
  },
  "orig_nbformat": 4,
  "vscode": {
   "interpreter": {
    "hash": "942bb7d924bc59037bd6d0b70197e5f1c049379bb31e98466f77a36d9d06bc68"
   }
  }
 },
 "nbformat": 4,
 "nbformat_minor": 2
}
