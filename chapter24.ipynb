{
 "cells": [
  {
   "attachments": {},
   "cell_type": "markdown",
   "metadata": {},
   "source": [
    "Chapter 24 Filtering and Indexing Operations"
   ]
  },
  {
   "cell_type": "code",
   "execution_count": null,
   "metadata": {},
   "outputs": [],
   "source": [
    "# deletes variables\n",
    "%reset -f"
   ]
  },
  {
   "cell_type": "code",
   "execution_count": 3,
   "metadata": {},
   "outputs": [
    {
     "name": "stdout",
     "output_type": "stream",
     "text": [
      "– pandas VERSION: 1.4.4\n"
     ]
    }
   ],
   "source": [
    "import pandas as pd; print(f\"– pandas VERSION: {pd.__version__}\");\n"
   ]
  },
  {
   "cell_type": "code",
   "execution_count": null,
   "metadata": {},
   "outputs": [],
   "source": [
    "# version 2 , simplified the columns assignment, combined and modified reaname(), move rename() with underscore\n",
    "def tweak_siena_pres_2(df):\n",
    "    def int64_to_uint8(df_):\n",
    "        cols = df_.select_dtypes('int64')\n",
    "        return (df_\n",
    "                .astype({col:'uint8' for col in cols}))\n",
    "\n",
    "    return (df\n",
    "     .rename(columns=\n",
    "        {'Seq.':'Seq',\n",
    "         'Bg': 'Background',\n",
    "         'PL': 'Party leadership', 'CAb': 'Communication ability',\n",
    "         'RC': 'Relations with Congress', 'CAp': 'Court appointments',\n",
    "         'HE': 'Handling of economy', 'L': 'Luck',\n",
    "         'AC': 'Ability to compromise', 'WR': 'Willing to take risks',\n",
    "         'EAp': 'Executive appointments', 'OA': 'Overall ability',\n",
    "         'Im': 'Imagination', 'DA': 'Domestic accomplishments',\n",
    "         'Int': 'Integrity', 'EAb': 'Executive ability',\n",
    "         'FPA': 'Foreign policy accomplishments',\n",
    "         'LA': 'Leadership ability',\n",
    "         'IQ': 'Intelligence', 'AM': 'Avoid crucial mistakes',\n",
    "         'EV': \"Experts' view\", 'O': 'Overall'})\n",
    "     .rename(columns = lambda c:c.replace(' ','_'))\n",
    "     .astype({'Party':'category'})  # 2\n",
    "     .pipe(int64_to_uint8)  # 3\n",
    "     .assign(Average_rank=lambda df_:df_.select_dtypes('uint8') # 4\n",
    "                 .sum(axis=1).rank(method='dense').astype('uint8'),\n",
    "             Quartile=lambda df_:pd.qcut(df_.Average_rank, 4,\n",
    "                 labels='1st 2nd 3rd 4th'.split())\n",
    "            )\n",
    "    )"
   ]
  },
  {
   "cell_type": "code",
   "execution_count": null,
   "metadata": {},
   "outputs": [],
   "source": [
    "pd.set_option('display.max_rows', 10)             \n",
    "url = 'https://github.com/mattharrison/datasets/raw/master/data/'\\\n",
    "    'siena2018-pres.csv'\n",
    "df = pd.read_csv(url, index_col=0)"
   ]
  },
  {
   "cell_type": "code",
   "execution_count": null,
   "metadata": {},
   "outputs": [],
   "source": [
    "pres = tweak_siena_pres_2(df)"
   ]
  },
  {
   "cell_type": "code",
   "execution_count": null,
   "metadata": {},
   "outputs": [],
   "source": [
    "def name_to_initial(val: str):\n",
    "    \"\"\"Input a pandas series of \n",
    "    names and out put first initial and last name\"\"\"\n",
    "    names = val.split()\n",
    "    return ' '.join([f'{names[0][0]}.',*names[1:]]) \n",
    "    "
   ]
  },
  {
   "cell_type": "code",
   "execution_count": null,
   "metadata": {},
   "outputs": [],
   "source": [
    "(pres\n",
    " .set_index('President')\n",
    " .rename(name_to_initial))\n"
   ]
  },
  {
   "cell_type": "code",
   "execution_count": null,
   "metadata": {},
   "outputs": [],
   "source": [
    "#24.2 Resetting the index\n",
    "(pres\n",
    " .set_index('President')\n",
    " .reset_index()\n",
    ")"
   ]
  },
  {
   "cell_type": "code",
   "execution_count": null,
   "metadata": {},
   "outputs": [],
   "source": [
    "#24.3 Dataframe Indexing, Filtering & Querying\n",
    "\n",
    "lt10 = pres.Average_rank < 10\n",
    "pres[lt10]\n"
   ]
  },
  {
   "cell_type": "code",
   "execution_count": null,
   "metadata": {},
   "outputs": [],
   "source": [
    "pres[lt10 & ( pres.Party == 'Republican')]"
   ]
  },
  {
   "cell_type": "code",
   "execution_count": null,
   "metadata": {},
   "outputs": [],
   "source": [
    "pres[(pres.Average_rank < 10 )  & (pres.Party == 'Republican')]"
   ]
  },
  {
   "cell_type": "code",
   "execution_count": null,
   "metadata": {},
   "outputs": [],
   "source": [
    "pres.query('Average_rank < 10 and Party == \"Republican\"')"
   ]
  },
  {
   "cell_type": "code",
   "execution_count": null,
   "metadata": {},
   "outputs": [],
   "source": [
    "lt10 = pres.Average_rank < 10\n",
    "\n",
    "pres.query('@lt10 and Party == \"Republican\"')"
   ]
  },
  {
   "cell_type": "code",
   "execution_count": null,
   "metadata": {},
   "outputs": [],
   "source": [
    "# 24.4 Indexing by Position\n",
    "\n",
    "pres.iloc[1]"
   ]
  },
  {
   "cell_type": "code",
   "execution_count": null,
   "metadata": {},
   "outputs": [],
   "source": [
    "pres.iloc[[1]]"
   ]
  },
  {
   "cell_type": "code",
   "execution_count": null,
   "metadata": {},
   "outputs": [],
   "source": [
    "pres.iloc[[0,5,10]]"
   ]
  },
  {
   "cell_type": "code",
   "execution_count": null,
   "metadata": {},
   "outputs": [],
   "source": [
    "pres.iloc[0:11:5]"
   ]
  },
  {
   "cell_type": "code",
   "execution_count": null,
   "metadata": {},
   "outputs": [],
   "source": [
    "pres.iloc[[0,5,10]]"
   ]
  },
  {
   "cell_type": "code",
   "execution_count": null,
   "metadata": {},
   "outputs": [],
   "source": [
    "pres.iloc[lambda df: [0,5,10]]"
   ]
  },
  {
   "cell_type": "code",
   "execution_count": null,
   "metadata": {},
   "outputs": [],
   "source": [
    "pres.iloc[[0,5,10],1]"
   ]
  },
  {
   "cell_type": "code",
   "execution_count": null,
   "metadata": {},
   "outputs": [],
   "source": [
    "pres.iloc[[5,5,10],[1]]"
   ]
  },
  {
   "cell_type": "code",
   "execution_count": null,
   "metadata": {},
   "outputs": [],
   "source": [
    "pres.iloc[:,[1,2]]"
   ]
  },
  {
   "cell_type": "code",
   "execution_count": null,
   "metadata": {},
   "outputs": [],
   "source": [
    "pres.iloc[:, 1:3]"
   ]
  },
  {
   "cell_type": "code",
   "execution_count": null,
   "metadata": {},
   "outputs": [],
   "source": [
    "# Indexing by name\n",
    "# need to set the index to display error.\n",
    "\n",
    "pres2 = pres.set_index('Seq')\n",
    "pres2.loc[1:5]"
   ]
  },
  {
   "cell_type": "code",
   "execution_count": null,
   "metadata": {},
   "outputs": [],
   "source": [
    "pres2.loc['1':'5']"
   ]
  },
  {
   "cell_type": "code",
   "execution_count": null,
   "metadata": {},
   "outputs": [],
   "source": [
    "pres.iloc[1:5]"
   ]
  }
 ],
 "metadata": {
  "kernelspec": {
   "display_name": "base",
   "language": "python",
   "name": "python3"
  },
  "language_info": {
   "codemirror_mode": {
    "name": "ipython",
    "version": 3
   },
   "file_extension": ".py",
   "mimetype": "text/x-python",
   "name": "python",
   "nbconvert_exporter": "python",
   "pygments_lexer": "ipython3",
   "version": "3.9.15"
  },
  "orig_nbformat": 4
 },
 "nbformat": 4,
 "nbformat_minor": 2
}
